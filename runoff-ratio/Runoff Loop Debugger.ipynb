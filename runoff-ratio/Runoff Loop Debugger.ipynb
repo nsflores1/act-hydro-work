{
 "cells": [
  {
   "cell_type": "code",
   "execution_count": 1,
   "id": "61b60b67-936f-4f7c-8c49-7964799bb976",
   "metadata": {},
   "outputs": [],
   "source": [
    "### Imports, some helper functions\n",
    "import numpy as np\n",
    "import xarray as xr\n",
    "import glob\n",
    "import os\n",
    "import hashlib\n",
    "import dask\n",
    "import pandas as pd\n",
    "import matplotlib.pyplot as plt\n",
    "from matplotlib import colors\n",
    "from matplotlib import colormaps\n",
    "from matplotlib import cm\n",
    "from matplotlib.ticker import MultipleLocator, FuncFormatter\n",
    "from dask.distributed import Client, LocalCluster\n",
    "import seaborn as sns\n",
    "import pprint\n",
    "import cartopy.crs as ccrs\n",
    "import cartopy.feature as cfeature\n",
    "from pprint import pp\n",
    "from datetime import date\n",
    "\n",
    "# let's test for now...\n",
    "from xarray_cacher import *"
   ]
  },
  {
   "cell_type": "code",
   "execution_count": 2,
   "id": "d77e0009-660f-49cb-8975-a65e1ee75d0b",
   "metadata": {},
   "outputs": [],
   "source": [
    "### Data loading\n",
    "# Corrected lat-lon grid will be handled separately \n",
    "model_grid = xr.open_mfdataset(\"/data/ycheng46/NNA/data/alaska_climate_region.nc\")\n",
    "static_lat2d = model_grid.lat.values\n",
    "static_lon2d = model_grid.lon.values % 360\n",
    "\n",
    "# DAILY snow\n",
    "snow_paths = [\"/data/shared_data/NNA/NNA.4km.hERA5.1989.003/snow_m/*.nc\",\n",
    "              \"/data/shared_data/NNA/NNA.4km.fPGWh.2033.004/snow_m/*.nc\",\n",
    "              \"/data/shared_data/NNA/NNA.4km.fPGWm.2033.005/snow_m/*.nc\" ]\n",
    "\n",
    "rain_paths = [\"/data/shared_data/NNA/NNA.4km.hERA5.1989.003/rain_m/*.nc\", \n",
    "              \"/data/shared_data/NNA/NNA.4km.fPGWh.2033.004/rain_m/*.nc\", \n",
    "              \"/data/shared_data/NNA/NNA.4km.fPGWm.2033.005/rain_m/*.nc\" ]\n",
    "\n",
    "temp_paths = [\"/data/shared_data/NNA/NNA.4km.hERA5.1989.003/tsa_m/*.nc\", \n",
    "              \"/data/shared_data/NNA/NNA.4km.fPGWh.2033.004/tsa_m/*.nc\", \n",
    "              \"/data/shared_data/NNA/NNA.4km.fPGWm.2033.005/tsa_m/*.nc\" ]\n",
    "\n",
    "better_h2osno_paths = [\"/data/shared_data/NNA/NNA.4km.hERA5.1989.003/swe_d/*.nc\",\n",
    "                        \"/data/shared_data/NNA/NNA.4km.fPGWh.2033.004/swe_d/*.nc\",\n",
    "                        \"/data/shared_data/NNA/NNA.4km.fPGWm.2033.005/swe_d/*.nc\" ]\n",
    "\n",
    "qrunoff_paths = [\"/data/shared_data/NNA/NNA.4km.hERA5.1989.003/qrunoff_m/*.nc\",\n",
    "                 \"/data/shared_data/NNA/NNA.4km.fPGWh.2033.004/qrunoff_m/*.nc\",\n",
    "                 \"/data/shared_data/NNA/NNA.4km.fPGWm.2033.005/qrunoff_m/*.nc\" ]\n",
    "\n",
    "snow_P, snow_H, snow_M = unpacker(snow_paths, \"SNOW\")\n",
    "rain_P, rain_H, rain_M = unpacker(rain_paths, \"RAIN\")\n",
    "temp_P, temp_H, temp_M = unpacker(temp_paths, \"TSA\")\n",
    "better_h2osno_P, better_h2osno_H, better_h2osno_M = unpacker(better_h2osno_paths, \"H2OSNO\")\n",
    "qrunoff_P, qrunoff_H, qrunoff_M = unpacker(qrunoff_paths, \"QRUNOFF\")"
   ]
  },
  {
   "cell_type": "code",
   "execution_count": 3,
   "id": "44a8d7c9-a214-450b-8f3d-ce2343523246",
   "metadata": {},
   "outputs": [],
   "source": [
    "### Data editing\n",
    "## Constants\n",
    "seconds_per_year = 365.25 * 86400\n",
    "seconds_per_season = 90.25 * 86400\n",
    "\n",
    "## Helpers for our cache functions\n",
    "def compute_annual_generic(ds):\n",
    "    return ds.groupby(\"time.year\").mean(dim=\"time\", skipna=True, keep_attrs=True)\n",
    "\n",
    "def compute_annual_runoff(ds):\n",
    "    return ds.groupby(\"time.year\").mean(dim=\"time\", skipna=True, keep_attrs=True)\n",
    "\n",
    "def compute_geo_average_future(ds):\n",
    "    return ds.mean(dim=(\"lat\", \"lon\"), skipna=True, keep_attrs=True).sel(year=slice(2034, 2064))\n",
    "\n",
    "def compute_geo_average_historic(ds):\n",
    "    return ds.mean(dim=(\"lat\", \"lon\"), skipna=True, keep_attrs=True).sel(year=slice(1990, 2020))\n",
    "\n",
    "def compute_layer_average_future(ds):\n",
    "    return ds.mean(dim=(\"lat\", \"lon\"), skipna=True, keep_attrs=True).sum(dim=\"levsoi\").sel(year=slice(2034, 2064))\n",
    "\n",
    "def compute_layer_average_historic(ds):\n",
    "    return ds.mean(dim=(\"lat\", \"lon\"), skipna=True, keep_attrs=True).sum(dim=\"levsoi\").sel(year=slice(1990, 2020))\n",
    "    \n",
    "## Snow\n",
    "total_snow_P = (snow_P) \n",
    "total_snow_H = (snow_H) \n",
    "total_snow_M = (snow_M)\n",
    "\n",
    "#total_snow_P = (snow_P) * seconds_per_year\n",
    "#total_snow_H = (snow_H) * seconds_per_year\n",
    "#total_snow_M = (snow_M) * seconds_per_year\n",
    "\n",
    "annual_snow_P = cache_xarray(compute_annual_generic, total_snow_P, name_hint=\"annual_snow_P\")\n",
    "annual_snow_H = cache_xarray(compute_annual_generic, total_snow_H, name_hint=\"annual_snow_H\")\n",
    "annual_snow_M = cache_xarray(compute_annual_generic, total_snow_M, name_hint=\"annual_snow_M\")\n",
    "\n",
    "## Rain\n",
    "total_rain_P = (rain_P)\n",
    "total_rain_H = (rain_H)\n",
    "total_rain_M = (rain_M)\n",
    "\n",
    "#total_rain_P = (rain_P) * seconds_per_year\n",
    "#total_rain_H = (rain_H) * seconds_per_year\n",
    "#total_rain_M = (rain_M) * seconds_per_year\n",
    "\n",
    "annual_rain_P = cache_xarray(compute_annual_generic, total_rain_P, name_hint=\"annual_rain_P\")\n",
    "annual_rain_H = cache_xarray(compute_annual_generic, total_rain_H, name_hint=\"annual_rain_H\")\n",
    "annual_rain_M = cache_xarray(compute_annual_generic, total_rain_M, name_hint=\"annual_rain_M\")\n",
    "\n",
    "## Precipitation\n",
    "total_precip_P = (rain_P + snow_P)\n",
    "total_precip_H = (rain_H + snow_H)\n",
    "total_precip_M = (rain_M + snow_M)\n",
    "\n",
    "#total_precip_P = (rain_P + snow_P) * seconds_per_year\n",
    "#total_precip_H = (rain_H + snow_H) * seconds_per_year\n",
    "#total_precip_M = (rain_M + snow_M) * seconds_per_year\n",
    "\n",
    "total_precip_P.name = \"PRECIP_P\"\n",
    "total_precip_H.name = \"PRECIP_H\"\n",
    "total_precip_M.name = \"PRECIP_M\"\n",
    "\n",
    "annual_precip_P = cache_xarray(compute_annual_generic, total_precip_P, name_hint=\"annual_precip_P\")\n",
    "annual_precip_H = cache_xarray(compute_annual_generic, total_precip_H, name_hint=\"annual_precip_H\")\n",
    "annual_precip_M = cache_xarray(compute_annual_generic, total_precip_M, name_hint=\"annual_precip_M\")\n",
    "\n",
    "## Runoff\n",
    "total_qrunoff_P = qrunoff_P \n",
    "total_qrunoff_H = qrunoff_H \n",
    "total_qrunoff_M = qrunoff_M \n",
    "\n",
    "#total_qrunoff_P = qrunoff_P * seconds_per_year\n",
    "#total_qrunoff_H = qrunoff_H * seconds_per_year\n",
    "#total_qrunoff_M = qrunoff_M * seconds_per_year\n",
    "\n",
    "annual_qrunoff_P = cache_xarray(compute_annual_runoff, total_qrunoff_P, name_hint=\"annual_qrunoff_P\")\n",
    "annual_qrunoff_H = cache_xarray(compute_annual_runoff, total_qrunoff_H, name_hint=\"annual_qrunoff_H\")\n",
    "annual_qrunoff_M = cache_xarray(compute_annual_runoff, total_qrunoff_M, name_hint=\"annual_qrunoff_M\")\n",
    "\n",
    "## Temp\n",
    "total_temp_P = temp_P\n",
    "total_temp_H = temp_H\n",
    "total_temp_M = temp_M\n",
    "\n",
    "annual_temp_P = cache_xarray(compute_annual_generic, total_temp_P, name_hint=\"annual_temp_P\")\n",
    "annual_temp_H = cache_xarray(compute_annual_generic, total_temp_H, name_hint=\"annual_temp_H\")\n",
    "annual_temp_M = cache_xarray(compute_annual_generic, total_temp_M, name_hint=\"annual_temp_M\")"
   ]
  },
  {
   "cell_type": "code",
   "execution_count": 4,
   "id": "828b3459-0eb6-4379-b99c-541a23bc414a",
   "metadata": {},
   "outputs": [
    {
     "data": {
      "text/plain": [
       "<matplotlib.collections.PathCollection at 0x7fe8ddcfb670>"
      ]
     },
     "execution_count": 4,
     "metadata": {},
     "output_type": "execute_result"
    },
    {
     "data": {
      "image/png": "[encoded data removed]",
      "text/plain": [
       "<Figure size 1000x1000 with 1 Axes>"
      ]
     },
     "metadata": {},
     "output_type": "display_data"
    }
   ],
   "source": [
    "### Data visualization: Cartesian grid\n",
    "\n",
    "# the code below makes a cartesian grid.\n",
    "# you'll need to change the constants so that you get something you want out of it.\n",
    "# it's just left here as an example of a working version\n",
    "xmin, xmax, ymin, ymax = -5, 5, -5, 5\n",
    "ticks = 1\n",
    "\n",
    "fig, ax = plt.subplots(figsize=(10,10))\n",
    "fig.patch.set_facecolor('#ffffff')\n",
    "ax.set(xlim=(xmin-1, xmax+1), ylim=(ymin-1, ymax+1), aspect='equal')\n",
    "\n",
    "# this creates our x-y grid lines...\n",
    "ax.spines['bottom'].set_position('zero')\n",
    "ax.spines['left'].set_position('zero')\n",
    "# and this hides the edges\n",
    "ax.spines['top'].set_visible(False)\n",
    "ax.spines['right'].set_visible(False)\n",
    "\n",
    "ax.set_xlabel('$x$', size=14, labelpad=-24, x=1.02)\n",
    "ax.set_ylabel('$y$', size=14, labelpad=-21, y=1.02, rotation=0)\n",
    " \n",
    "plt.text(0.49, 0.49, \"$O$\", ha='right', va='top', \n",
    "         transform=ax.transAxes,\n",
    "         horizontalalignment='center', fontsize=14)\n",
    "\n",
    "x_ticks = np.arange(xmin, xmax+1, ticks)\n",
    "y_ticks = np.arange(ymin, ymax+1, ticks)\n",
    "\n",
    "ax.set_xticks(x_ticks[x_ticks != 0])\n",
    "ax.set_yticks(y_ticks[y_ticks != 0])\n",
    "ax.set_xticks(np.arange(xmin, xmax+1), minor=True)\n",
    "ax.set_yticks(np.arange(ymin, ymax+1), minor=True)\n",
    "ax.grid(which='both', color='grey', linewidth=1, linestyle='-', alpha=0.2)\n",
    "\n",
    "# the easiest way to make plots\n",
    "ax.scatter([1, 2], [1, 2], c=[\"r\", \"b\"])"
   ]
  },
  {
   "cell_type": "code",
   "execution_count": 5,
   "id": "a6d3c407-0ba8-46cb-a07a-350d4b50cdc5",
   "metadata": {},
   "outputs": [
    {
     "name": "stdout",
     "output_type": "stream",
     "text": [
      "precip ratio_P values: [(2.1318445675433395e-08, 1989), (2.0820802859589094e-08, 1990), (2.1953884044023653e-08, 1991), (1.998329501873286e-08, 1992), (2.1667677430059484e-08, 1993), (2.1675544914501188e-08, 1994), (2.3411342198187413e-08, 1995), (1.9656830829717364e-08, 1996), (2.1898246771456797e-08, 1997), (2.102840923612348e-08, 1998), (2.1907757385974946e-08, 1999), (2.1363709024058153e-08, 2000), (2.3959399797490732e-08, 2001), (2.2118756604072587e-08, 2002), (2.186559733274862e-08, 2003), (2.089329242949134e-08, 2004), (2.191343284607683e-08, 2005), (2.2584481840226545e-08, 2006), (2.1189602961158016e-08, 2007), (2.1923007409441198e-08, 2008), (2.2915140007739865e-08, 2009), (2.0667966893483936e-08, 2010), (2.1450755838259283e-08, 2011), (2.290494016676803e-08, 2012), (2.2384686104715e-08, 2013), (2.308522262239876e-08, 2014), (2.103294427513447e-08, 2015), (2.362516404730286e-08, 2016), (2.038767554779497e-08, 2017), (2.2825012990779214e-08, 2018), (2.146969002581045e-08, 2019), (2.207112181906723e-08, 2020), (2.5152470328748677e-08, 2021)]\n",
      "\n",
      "temp_P values: [(np.float32(6.9078674), 1989), (np.float32(-0.8968811), 1990), (np.float32(-0.52233887), 1991), (np.float32(-1.2380676), 1992), (np.float32(0.31478882), 1993), (np.float32(-0.8600769), 1994), (np.float32(-0.14193726), 1995), (np.float32(-1.0623169), 1996), (np.float32(-0.21069336), 1997), (np.float32(0.22894287), 1998), (np.float32(-1.4110413), 1999), (np.float32(-0.8845215), 2000), (np.float32(-0.24667358), 2001), (np.float32(-0.2421875), 2002), (np.float32(0.53704834), 2003), (np.float32(0.111450195), 2004), (np.float32(-0.0013122559), 2005), (np.float32(-0.48535156), 2006), (np.float32(0.08557129), 2007), (np.float32(-1.138794), 2008), (np.float32(-0.8756714), 2009), (np.float32(0.71432495), 2010), (np.float32(-0.86209106), 2011), (np.float32(-0.32489014), 2012), (np.float32(-0.12875366), 2013), (np.float32(0.5697632), 2014), (np.float32(0.8942261), 2015), (np.float32(1.6358643), 2016), (np.float32(0.49597168), 2017), (np.float32(1.2184753), 2018), (np.float32(1.6154175), 2019), (np.float32(-0.49801636), 2020), (np.float32(0.18765259), 2021)]\n",
      "\n",
      "precip_P values: [(np.float32(890.08185), 1989), (np.float32(716.8714), 1990), (np.float32(718.0918), 1991), (np.float32(706.33246), 1992), (np.float32(725.24756), 1993), (np.float32(727.6663), 1994), (np.float32(631.0178), 1995), (np.float32(630.6933), 1996), (np.float32(631.9604), 1997), (np.float32(706.7131), 1998), (np.float32(653.9473), 1999), (np.float32(724.9834), 2000), (np.float32(693.6735), 2001), (np.float32(693.04285), 2002), (np.float32(670.3299), 2003), (np.float32(693.5618), 2004), (np.float32(732.43933), 2005), (np.float32(687.34186), 2006), (np.float32(672.2393), 2007), (np.float32(681.3243), 2008), (np.float32(667.1685), 2009), (np.float32(651.81384), 2010), (np.float32(688.4699), 2011), (np.float32(758.10016), 2012), (np.float32(781.6635), 2013), (np.float32(697.4674), 2014), (np.float32(760.43896), 2015), (np.float32(696.2277), 2016), (np.float32(705.4331), 2017), (np.float32(735.595), 2018), (np.float32(755.504), 2019), (np.float32(723.12604), 2020), (np.float32(725.10077), 2021)]\n",
      "\n",
      "combined_P coords: [(np.float32(890.08185), np.float32(6.9078674)), (np.float32(716.8714), np.float32(-0.8968811)), (np.float32(718.0918), np.float32(-0.52233887)), (np.float32(706.33246), np.float32(-1.2380676)), (np.float32(725.24756), np.float32(0.31478882)), (np.float32(727.6663), np.float32(-0.8600769)), (np.float32(631.0178), np.float32(-0.14193726)), (np.float32(630.6933), np.float32(-1.0623169)), (np.float32(631.9604), np.float32(-0.21069336)), (np.float32(706.7131), np.float32(0.22894287)), (np.float32(653.9473), np.float32(-1.4110413)), (np.float32(724.9834), np.float32(-0.8845215)), (np.float32(693.6735), np.float32(-0.24667358)), (np.float32(693.04285), np.float32(-0.2421875)), (np.float32(670.3299), np.float32(0.53704834)), (np.float32(693.5618), np.float32(0.111450195)), (np.float32(732.43933), np.float32(-0.0013122559)), (np.float32(687.34186), np.float32(-0.48535156)), (np.float32(672.2393), np.float32(0.08557129)), (np.float32(681.3243), np.float32(-1.138794)), (np.float32(667.1685), np.float32(-0.8756714)), (np.float32(651.81384), np.float32(0.71432495)), (np.float32(688.4699), np.float32(-0.86209106)), (np.float32(758.10016), np.float32(-0.32489014)), (np.float32(781.6635), np.float32(-0.12875366)), (np.float32(697.4674), np.float32(0.5697632)), (np.float32(760.43896), np.float32(0.8942261)), (np.float32(696.2277), np.float32(1.6358643)), (np.float32(705.4331), np.float32(0.49597168)), (np.float32(735.595), np.float32(1.2184753)), (np.float32(755.504), np.float32(1.6154175)), (np.float32(723.12604), np.float32(-0.49801636)), (np.float32(725.10077), np.float32(0.18765259))]\n",
      "\n",
      "precip ratio_H values: [(1.9977855814090617e-08, 2033), (2.0967210190292462e-08, 2034), (2.2526538856482148e-08, 2035), (2.0201213146719965e-08, 2036), (2.192078163432143e-08, 2037), (2.1361953983500825e-08, 2038), (2.3481639743749838e-08, 2039), (1.9815812990486847e-08, 2040), (2.1398097516112102e-08, 2041), (2.1404487071663425e-08, 2042), (2.1420069273858644e-08, 2043), (2.1743048250755237e-08, 2044), (2.3667155346629443e-08, 2045), (2.2196456228584793e-08, 2046), (2.1544936501527445e-08, 2047), (2.0695305025242305e-08, 2048), (2.186249226099335e-08, 2049), (2.272826549187812e-08, 2050), (2.1146981055153447e-08, 2051), (2.1754017254238533e-08, 2052), (2.2629381035699225e-08, 2053), (2.080748551236411e-08, 2054), (2.1342385636557992e-08, 2055), (2.3155697803645126e-08, 2056), (2.2404577748602605e-08, 2057), (2.2664247367742973e-08, 2058), (2.0664147726279225e-08, 2059), (2.2725579640336946e-08, 2060), (2.0395159339159363e-08, 2061), (2.2139500899243103e-08, 2062), (2.0858328397821424e-08, 2063), (2.1470885513963367e-08, 2064), (2.403458054800467e-08, 2065)]\n",
      "\n",
      "temp_H values: [(np.float32(9.272919), 2033), (np.float32(1.5083618), 2034), (np.float32(1.841095), 2035), (np.float32(1.3183594), 2036), (np.float32(2.7480469), 2037), (np.float32(1.7599792), 2038), (np.float32(2.4455261), 2039), (np.float32(1.5531616), 2040), (np.float32(2.3850098), 2041), (np.float32(2.8561096), 2042), (np.float32(1.3667297), 2043), (np.float32(1.8961182), 2044), (np.float32(2.4995422), 2045), (np.float32(2.3825989), 2046), (np.float32(3.2864685), 2047), (np.float32(2.947815), 2048), (np.float32(3.11438), 2049), (np.float32(2.4128723), 2050), (np.float32(2.8460999), 2051), (np.float32(1.9475708), 2052), (np.float32(2.05661), 2053), (np.float32(3.7504578), 2054), (np.float32(2.0509338), 2055), (np.float32(2.1766052), 2056), (np.float32(2.591095), 2057), (np.float32(3.662384), 2058), (np.float32(3.9283142), 2059), (np.float32(4.489685), 2060), (np.float32(3.4988403), 2061), (np.float32(4.185028), 2062), (np.float32(4.798828), 2063), (np.float32(2.8286743), 2064), (np.float32(3.1152039), 2065)]\n",
      "\n",
      "precip_H values: [(np.float32(969.3787), 2033), (np.float32(795.8755), 2034), (np.float32(780.3686), 2035), (np.float32(773.30414), 2036), (np.float32(790.2892), 2037), (np.float32(802.50684), 2038), (np.float32(697.48254), 2039), (np.float32(703.8956), 2040), (np.float32(708.65894), 2041), (np.float32(789.1025), 2042), (np.float32(729.4717), 2043), (np.float32(820.2656), 2044), (np.float32(784.5128), 2045), (np.float32(778.6257), 2046), (np.float32(758.9689), 2047), (np.float32(788.81805), 2048), (np.float32(841.94824), 2049), (np.float32(791.3796), 2050), (np.float32(767.14386), 2051), (np.float32(784.491), 2052), (np.float32(769.64746), 2053), (np.float32(745.07294), 2054), (np.float32(791.4407), 2055), (np.float32(816.1243), 2056), (np.float32(842.87036), 2057), (np.float32(794.32806), 2058), (np.float32(875.8783), 2059), (np.float32(789.7625), 2060), (np.float32(787.4086), 2061), (np.float32(828.4566), 2062), (np.float32(843.9124), 2063), (np.float32(831.5302), 2064), (np.float32(816.8814), 2065)]\n",
      "\n",
      "combined_H coords: [(np.float32(969.3787), np.float32(9.272919)), (np.float32(795.8755), np.float32(1.5083618)), (np.float32(780.3686), np.float32(1.841095)), (np.float32(773.30414), np.float32(1.3183594)), (np.float32(790.2892), np.float32(2.7480469)), (np.float32(802.50684), np.float32(1.7599792)), (np.float32(697.48254), np.float32(2.4455261)), (np.float32(703.8956), np.float32(1.5531616)), (np.float32(708.65894), np.float32(2.3850098)), (np.float32(789.1025), np.float32(2.8561096)), (np.float32(729.4717), np.float32(1.3667297)), (np.float32(820.2656), np.float32(1.8961182)), (np.float32(784.5128), np.float32(2.4995422)), (np.float32(778.6257), np.float32(2.3825989)), (np.float32(758.9689), np.float32(3.2864685)), (np.float32(788.81805), np.float32(2.947815)), (np.float32(841.94824), np.float32(3.11438)), (np.float32(791.3796), np.float32(2.4128723)), (np.float32(767.14386), np.float32(2.8460999)), (np.float32(784.491), np.float32(1.9475708)), (np.float32(769.64746), np.float32(2.05661)), (np.float32(745.07294), np.float32(3.7504578)), (np.float32(791.4407), np.float32(2.0509338)), (np.float32(816.1243), np.float32(2.1766052)), (np.float32(842.87036), np.float32(2.591095)), (np.float32(794.32806), np.float32(3.662384)), (np.float32(875.8783), np.float32(3.9283142)), (np.float32(789.7625), np.float32(4.489685)), (np.float32(787.4086), np.float32(3.4988403)), (np.float32(828.4566), np.float32(4.185028)), (np.float32(843.9124), np.float32(4.798828)), (np.float32(831.5302), np.float32(2.8286743)), (np.float32(816.8814), np.float32(3.1152039))]\n",
      "\n",
      "precip ratio_M values: [(1.9542616414014446e-08, 2033), (2.077378269405017e-08, 2034), (2.2341401617609336e-08, 2035), (2.0108089415771246e-08, 2036), (2.175106494917145e-08, 2037), (2.131781329239857e-08, 2038), (2.3485416278390403e-08, 2039), (1.968965612775264e-08, 2040), (2.148263789081284e-08, 2041), (2.1194706434357613e-08, 2042), (2.1425600849056536e-08, 2043), (2.153248246372641e-08, 2044), (2.3605698729056712e-08, 2045), (2.1964893903714255e-08, 2046), (2.138119192807153e-08, 2047), (2.0459983929299597e-08, 2048), (2.1566091135127863e-08, 2049), (2.248912700508754e-08, 2050), (2.094790296780502e-08, 2051), (2.165480594840119e-08, 2052), (2.2547364864067276e-08, 2053), (2.0545371626212727e-08, 2054), (2.127148412967017e-08, 2055), (2.291957201805417e-08, 2056), (2.2265574273205857e-08, 2057), (2.268816245987182e-08, 2058), (2.0724716165432255e-08, 2059), (2.2978850822141794e-08, 2060), (2.0145893842027363e-08, 2061), (2.235930374183681e-08, 2062), (2.0998479399736425e-08, 2063), (2.1586998855127604e-08, 2064), (2.4409024135252366e-08, 2065)]\n",
      "\n",
      "temp_M values: [(np.float32(9.060242), 2033), (np.float32(1.0473633), 2034), (np.float32(1.3918762), 2035), (np.float32(0.7788696), 2036), (np.float32(2.1733704), 2037), (np.float32(1.1480408), 2038), (np.float32(1.7444458), 2039), (np.float32(0.9717102), 2040), (np.float32(1.8673401), 2041), (np.float32(2.209137), 2042), (np.float32(0.6911926), 2043), (np.float32(1.081543), 2044), (np.float32(1.666565), 2045), (np.float32(1.723938), 2046), (np.float32(2.5124512), 2047), (np.float32(2.0837402), 2048), (np.float32(1.9885559), 2049), (np.float32(1.476471), 2050), (np.float32(1.9611206), 2051), (np.float32(0.87557983), 2052), (np.float32(1.1949768), 2053), (np.float32(2.7738342), 2054), (np.float32(1.2015991), 2055), (np.float32(1.4037476), 2056), (np.float32(1.5907898), 2057), (np.float32(2.6351929), 2058), (np.float32(2.907898), 2059), (np.float32(3.6939392), 2060), (np.float32(2.5177307), 2061), (np.float32(3.1123657), 2062), (np.float32(3.7743225), 2063), (np.float32(1.6175537), 2064), (np.float32(1.9868164), 2065)]\n",
      "\n",
      "precip_M values: [(np.float32(961.01074), 2033), (np.float32(785.6744), 2034), (np.float32(778.20807), 2035), (np.float32(770.41455), 2036), (np.float32(780.60547), 2037), (np.float32(791.27466), 2038), (np.float32(690.0156), 2039), (np.float32(691.3389), 2040), (np.float32(698.2053), 2041), (np.float32(768.9483), 2042), (np.float32(714.30225), 2043), (np.float32(790.8959), 2044), (np.float32(748.94495), 2045), (np.float32(747.432), 2046), (np.float32(726.4663), 2047), (np.float32(752.94275), 2048), (np.float32(794.93854), 2049), (np.float32(749.55316), 2050), (np.float32(731.3174), 2051), (np.float32(738.98804), 2052), (np.float32(724.6281), 2053), (np.float32(713.18835), 2054), (np.float32(752.24396), 2055), (np.float32(790.16327), 2056), (np.float32(808.05505), 2057), (np.float32(757.40814), 2058), (np.float32(837.96063), 2059), (np.float32(759.20105), 2060), (np.float32(763.7066), 2061), (np.float32(796.8222), 2062), (np.float32(813.82074), 2063), (np.float32(803.7592), 2064), (np.float32(797.1627), 2065)]\n",
      "\n",
      "combined_M coords: [(np.float32(961.01074), np.float32(9.060242)), (np.float32(785.6744), np.float32(1.0473633)), (np.float32(778.20807), np.float32(1.3918762)), (np.float32(770.41455), np.float32(0.7788696)), (np.float32(780.60547), np.float32(2.1733704)), (np.float32(791.27466), np.float32(1.1480408)), (np.float32(690.0156), np.float32(1.7444458)), (np.float32(691.3389), np.float32(0.9717102)), (np.float32(698.2053), np.float32(1.8673401)), (np.float32(768.9483), np.float32(2.209137)), (np.float32(714.30225), np.float32(0.6911926)), (np.float32(790.8959), np.float32(1.081543)), (np.float32(748.94495), np.float32(1.666565)), (np.float32(747.432), np.float32(1.723938)), (np.float32(726.4663), np.float32(2.5124512)), (np.float32(752.94275), np.float32(2.0837402)), (np.float32(794.93854), np.float32(1.9885559)), (np.float32(749.55316), np.float32(1.476471)), (np.float32(731.3174), np.float32(1.9611206)), (np.float32(738.98804), np.float32(0.87557983)), (np.float32(724.6281), np.float32(1.1949768)), (np.float32(713.18835), np.float32(2.7738342)), (np.float32(752.24396), np.float32(1.2015991)), (np.float32(790.16327), np.float32(1.4037476)), (np.float32(808.05505), np.float32(1.5907898)), (np.float32(757.40814), np.float32(2.6351929)), (np.float32(837.96063), np.float32(2.907898)), (np.float32(759.20105), np.float32(3.6939392)), (np.float32(763.7066), np.float32(2.5177307)), (np.float32(796.8222), np.float32(3.1123657)), (np.float32(813.82074), np.float32(3.7743225)), (np.float32(803.7592), np.float32(1.6175537)), (np.float32(797.1627), np.float32(1.9868164))]\n",
      "\n"
     ]
    },
    {
     "data": {
      "text/plain": [
       "<matplotlib.legend.Legend at 0x7fe8ddb40a60>"
      ]
     },
     "execution_count": 5,
     "metadata": {},
     "output_type": "execute_result"
    },
    {
     "data": {
      "text/plain": [
       "<Figure size 3840x2880 with 0 Axes>"
      ]
     },
     "metadata": {},
     "output_type": "display_data"
    },
    {
     "data": {
      "image/png": "[encoded data removed]",
      "text/plain": [
       "<Figure size 1200x800 with 2 Axes>"
      ]
     },
     "metadata": {},
     "output_type": "display_data"
    }
   ],
   "source": [
    "### Data visualization: Cartesian grid (example working code)\n",
    "# the first step is to get an average over all space and time:\n",
    "total_avg_qrunoff_P = annual_qrunoff_P.mean(dim=('lat', 'lon', 'year'))\n",
    "total_avg_qrunoff_H = annual_qrunoff_H.mean(dim=('lat', 'lon', 'year'))\n",
    "total_avg_qrunoff_M = annual_qrunoff_M.mean(dim=('lat', 'lon', 'year'))\n",
    "\n",
    "total_avg_snow_P = annual_snow_P.mean(dim=('lat', 'lon', 'year'))\n",
    "total_avg_snow_H = annual_snow_H.mean(dim=('lat', 'lon', 'year'))\n",
    "total_avg_snow_M = annual_snow_M.mean(dim=('lat', 'lon', 'year'))\n",
    "\n",
    "total_avg_rain_P = annual_rain_P.mean(dim=('lat', 'lon', 'year'))\n",
    "total_avg_rain_H = annual_rain_H.mean(dim=('lat', 'lon', 'year'))\n",
    "total_avg_rain_M = annual_rain_M.mean(dim=('lat', 'lon', 'year'))\n",
    "\n",
    "total_avg_precip_P = annual_precip_P.mean(dim=('lat', 'lon', 'year'))\n",
    "total_avg_precip_H = annual_precip_H.mean(dim=('lat', 'lon', 'year'))\n",
    "total_avg_precip_M = annual_precip_M.mean(dim=('lat', 'lon', 'year'))\n",
    "\n",
    "years_P = [x.item() for x in annual_qrunoff_P.year.values]\n",
    "years_H = [x.item() for x in annual_qrunoff_H.year.values]\n",
    "years_M = [x.item() for x in annual_qrunoff_M.year.values]\n",
    "# now we need to loop over them by year to get the values by year.\n",
    "\n",
    "# this value is the center of our coordinate grid.\n",
    "# we define all points relative to these values.\n",
    "x_origin, y_origin = total_precip_P.mean().values, total_temp_P.mean().values\n",
    "#x_origin, y_origin = 750, 280\n",
    "\n",
    "## HISTORICAL\n",
    "# color\n",
    "precip_ratio_values_P = [(annual_qrunoff_P.sel(year=x).mean(dim=('lat','lon')).values / annual_precip_P.sel(year=x).mean(dim=('lat','lon')).values).item()\n",
    "           for x in years_P]\n",
    "# y axis \n",
    "temp_values_P = [(annual_temp_P.sel(year=x).mean(dim=('lat','lon')).values).item() - y_origin\n",
    "           for x in years_P]\n",
    "# x axis\n",
    "precip_values_P = [(annual_precip_P.sel(year=x).mean(dim=('lat','lon')).values).item() - x_origin\n",
    "           for x in years_P]\n",
    "\n",
    "## FUTURE HOT\n",
    "# color\n",
    "precip_ratio_values_H = [(annual_qrunoff_H.sel(year=x).mean(dim=('lat','lon')).values / annual_precip_H.sel(year=x).mean(dim=('lat','lon')).values).item()\n",
    "           for x in years_H]\n",
    "# y axis \n",
    "temp_values_H = [(annual_temp_H.sel(year=x).mean(dim=('lat','lon')).values).item() - y_origin\n",
    "           for x in years_H]\n",
    "# x axis\n",
    "precip_values_H = [(annual_precip_H.sel(year=x).mean(dim=('lat','lon')).values).item() - x_origin\n",
    "           for x in years_H]\n",
    "\n",
    "## FUTURE MODERATE\n",
    "# color\n",
    "precip_ratio_values_M = [(annual_qrunoff_M.sel(year=x).mean(dim=('lat','lon')).values / annual_precip_M.sel(year=x).mean(dim=('lat','lon')).values).item()\n",
    "           for x in years_M]\n",
    "# y axis \n",
    "temp_values_M = [(annual_temp_M.sel(year=x).mean(dim=('lat','lon')).values).item() - y_origin\n",
    "           for x in years_M]\n",
    "# x axis\n",
    "precip_values_M = [(annual_precip_M.sel(year=x).mean(dim=('lat','lon')).values).item() - x_origin\n",
    "           for x in years_M]\n",
    "\n",
    "all_heats = np.concatenate([\n",
    "    precip_ratio_values_P,\n",
    "    precip_ratio_values_H,\n",
    "    precip_ratio_values_M\n",
    "])\n",
    "\n",
    "vmin, vmax = all_heats.min(), all_heats.max()\n",
    "\n",
    "print(f\"precip ratio_P values: {list(zip(precip_ratio_values_P,years_P))}\")\n",
    "print()\n",
    "print(f\"temp_P values: {list(zip(temp_values_P,years_P))}\")\n",
    "print()\n",
    "print(f\"precip_P values: {list(zip(precip_values_P,years_P))}\")\n",
    "print()\n",
    "print(f\"combined_P coords: {list(zip(precip_values_P, temp_values_P))}\")\n",
    "print()\n",
    "\n",
    "print(f\"precip ratio_H values: {list(zip(precip_ratio_values_H,years_H))}\")\n",
    "print()\n",
    "print(f\"temp_H values: {list(zip(temp_values_H,years_H))}\")\n",
    "print()\n",
    "print(f\"precip_H values: {list(zip(precip_values_H,years_H))}\")\n",
    "print()\n",
    "print(f\"combined_H coords: {list(zip(precip_values_H, temp_values_H))}\")\n",
    "print()\n",
    "\n",
    "print(f\"precip ratio_M values: {list(zip(precip_ratio_values_M,years_M))}\")\n",
    "print()\n",
    "print(f\"temp_M values: {list(zip(temp_values_M,years_M))}\")\n",
    "print()\n",
    "print(f\"precip_M values: {list(zip(precip_values_M,years_M))}\")\n",
    "print()\n",
    "print(f\"combined_M coords: {list(zip(precip_values_M, temp_values_M))}\")\n",
    "print()\n",
    "\n",
    "#xmin, xmax = total_precip_P.max(), total_precip_P.min()\n",
    "\n",
    "## cartesian grid\n",
    "#xmin, xmax = (total_precip_P.max() - x_origin).values, (x_origin - total_precip_P.max()).values\n",
    "#ymin, ymax = (total_temp_P.max() - y_origin).values, (y_origin - total_temp_P.max()).values\n",
    "\n",
    "# We're defining it manually because using calculated values is extremely error-prone\n",
    "xmin, xmax = -80, 150\n",
    "#xmin, xmax = -150, 150\n",
    "ymin, ymax = -2, 5\n",
    "#ymin, ymax = -14, 14\n",
    "ticks_x = 10\n",
    "#ticks_x = 20\n",
    "ticks_y = 0.5\n",
    "#ticks_y = 4\n",
    "\n",
    "plt.figure(dpi=600)\n",
    "fig, ax = plt.subplots(figsize=(12, 8))\n",
    "fig.patch.set_facecolor('#ffffff')\n",
    "ax.set(xlim=(xmin-1, xmax+1), ylim=(ymin-0.05*(ymax-ymin), ymax+0.05*(ymax-ymin)), aspect='auto')\n",
    "\n",
    "# axes styling\n",
    "ax.spines['bottom'].set_position('zero')\n",
    "ax.spines['left'].set_position('zero')\n",
    "ax.spines['top'].set_visible(False)\n",
    "ax.spines['right'].set_visible(False)\n",
    "\n",
    "ax.set_xlabel('Precipitation $(mm/yr)$', size=14, labelpad=-120, x=1.04, rotation=-270)\n",
    "ax.set_ylabel('Temperature $(Kelvins)$', size=14, labelpad=-21, y=1.02, rotation=0)\n",
    "#ax.set_xlabel('$x$', size=14, labelpad=-24, x=1.02)\n",
    "#ax.set_ylabel('$y$', size=14, labelpad=-21, y=1.02, rotation=0)\n",
    "#plt.text(0.49, 0.49, \"$O$\", transform=ax.transAxes, ha='center', va='top', fontsize=14)\n",
    "\n",
    "# grid ticks\n",
    "ax.xaxis.set_major_locator(MultipleLocator(ticks_x))\n",
    "ax.xaxis.set_minor_locator(MultipleLocator(ticks_x / 5))\n",
    "ax.yaxis.set_major_locator(MultipleLocator(ticks_y))\n",
    "ax.yaxis.set_minor_locator(MultipleLocator(ticks_y / 5))\n",
    "\n",
    "ax.yaxis.set_major_formatter(FuncFormatter(lambda y, _: f'{y:.2f}'))\n",
    "#ax.yaxis.set_major_formatter(FuncFormatter(lambda y, _: f'{int(y):,}'))\n",
    "\n",
    "ax.grid(which='both', color='grey', linewidth=1, linestyle='-', alpha=0.2)\n",
    "\n",
    "plt.suptitle(\"Runoff / Precipitation Ratio for Different Precipitation and Temperature Values and Situations\")\n",
    "\n",
    "# the easiest way to make plots\n",
    "sc1 = ax.scatter(precip_values_P, temp_values_P, c=precip_ratio_values_P, label=\"Past\",\n",
    "                 vmin=vmin, vmax=vmax, cmap=\"viridis\", marker=\"o\")\n",
    "sc2 = ax.scatter(precip_values_H, temp_values_H, c=precip_ratio_values_H, label=\"Future (Hot)\",\n",
    "                 vmin=vmin, vmax=vmax, cmap=\"viridis\", marker=\"s\")\n",
    "sc3 = ax.scatter(precip_values_M, temp_values_M, c=precip_ratio_values_M, label=\"Future (Moderate)\",\n",
    "                 vmin=vmin, vmax=vmax, cmap=\"viridis\", marker=\"d\")\n",
    "plt.colorbar(sc1, label=\"Runoff / Precipitation Ratio\", extend=\"both\")\n",
    "plt.legend()\n",
    "\n"
   ]
  },
  {
   "cell_type": "code",
   "execution_count": 6,
   "id": "8e67f509-804c-4fb0-8ed8-a680f6e6dcdb",
   "metadata": {},
   "outputs": [
    {
     "name": "stdout",
     "output_type": "stream",
     "text": [
      "x-origin: 439.047856438397, y-origin: 277.27508544921875\n",
      "historical (P) done\n",
      "sanity test: is debug and real equal (precipitation ? [ True  True  True  True  True  True  True  True  True  True  True  True\n",
      "  True  True  True  True  True  True  True  True  True  True  True  True\n",
      "  True  True  True  True  True  True  True  True  True]\n",
      "historical (P-DEBUG) done\n",
      "future (H) done\n",
      "sanity test: is debug and real equal (precipitation H)? [ True  True  True  True  True  True  True  True  True  True  True  True\n",
      "  True  True  True  True  True  True  True  True  True  True  True  True\n",
      "  True  True  True  True  True  True  True  True  True]\n",
      "future (H-DEBUG) done\n",
      "future (M) done\n",
      "sanity test: is debug and real equal (precipitation M)? [ True  True  True  True  True  True  True  True  True  True  True  True\n",
      "  True  True  True  True  True  True  True  True  True  True  True  True\n",
      "  True  True  True  True  True  True  True  True  True]\n",
      "future (M-DEBUG) done\n"
     ]
    }
   ],
   "source": [
    "### Data visualization: Cartesian grid (but for summertime, debugigng)\n",
    "\n",
    "## REGIONAL\n",
    "\n",
    "os.makedirs(\"runoff_ratio_debug\", exist_ok=True)\n",
    "\n",
    "# Regional testing\n",
    "magic = 2\n",
    "\n",
    "region_dic = {1:\"West Coast\",\n",
    "              2:\"Aleutians\",\n",
    "              3:\"Central Interior\",\n",
    "              4:\"Northern Slope\",\n",
    "              5:\"NE Interior\",\n",
    "              6:\"SE Interior\",\n",
    "              7:\"Cook Inlet\",\n",
    "              8:\"NW Gulf\",\n",
    "              9:\"Bristol Bay\",\n",
    "              10:\"North Panhandle\",\n",
    "              11:\"NE Gulf\",\n",
    "              12:\"Central Panhandle\",\n",
    "              13:\"South Panhandle\"}\n",
    "\n",
    "## shadowing ALL the variables with filtered ones\n",
    "total_qrunoff_P = total_qrunoff_P.where(model_grid.OBJECTID.values == magic)\n",
    "total_qrunoff_H = total_qrunoff_H.where(model_grid.OBJECTID.values == magic)\n",
    "total_qrunoff_M = total_qrunoff_M.where(model_grid.OBJECTID.values == magic)\n",
    "\n",
    "total_temp_P = total_temp_P.where(model_grid.OBJECTID.values == magic)\n",
    "total_temp_H = total_temp_H.where(model_grid.OBJECTID.values == magic)\n",
    "total_temp_M = total_temp_M.where(model_grid.OBJECTID.values == magic)\n",
    "\n",
    "total_precip_P = total_precip_P.where(model_grid.OBJECTID.values == magic)\n",
    "total_precip_H = total_precip_H.where(model_grid.OBJECTID.values == magic)\n",
    "total_precip_M = total_precip_M.where(model_grid.OBJECTID.values == magic)\n",
    "\n",
    "# important helper function to get a summer season\n",
    "def summerizer(ds, dataset_name, scale_by_time=True):\n",
    "    \"\"\"returns summer totals (may–aug) per season_year; optionally scaled by number of seconds\"\"\"\n",
    "    mjja = ds.sel(time=ds.time.dt.month.isin([5, 6, 7, 8]))\n",
    "\n",
    "    def get_season_year(time):\n",
    "        return xr.DataArray(time.dt.year, dims='time')\n",
    "\n",
    "    season_years = get_season_year(mjja.time).astype('int32')\n",
    "    mjja.coords['season_year'] = season_years\n",
    "\n",
    "    def get_seconds_per_summer(season_years):\n",
    "        years = np.unique(season_years.values)\n",
    "        starts = pd.to_datetime([f\"{y}-05-01\" for y in years])\n",
    "        ends = pd.to_datetime([f\"{y}-09-01\" for y in years])\n",
    "        durations = (ends - starts).days * 86400\n",
    "        return xr.DataArray(durations, dims='season_year', coords={'season_year': years})\n",
    "\n",
    "    seconds_per_year = get_seconds_per_summer(season_years)\n",
    "\n",
    "    def groupby_reducer(ds):\n",
    "        grouped = ds.groupby('season_year').mean(dim=('lat', 'lon', 'time'))\n",
    "        grouped = grouped * seconds_per_year if scale_by_time else grouped\n",
    "        grouped.name = dataset_name\n",
    "        return grouped\n",
    "\n",
    "    return cache_xarray(groupby_reducer, mjja, name_hint=dataset_name)\n",
    "\n",
    "# years value we'll use later\n",
    "years_P = [x.item() for x in summerizer(total_qrunoff_P, f\"summerized_qrunoff_P_{magic}\").season_year.values]\n",
    "years_H = [x.item() for x in summerizer(total_qrunoff_H, f\"summerized_qrunoff_H_{magic}\").season_year.values]\n",
    "years_M = [x.item() for x in summerizer(total_qrunoff_M, f\"summerized_qrunoff_M_{magic}\").season_year.values]\n",
    "\n",
    "# this value is the center of our coordinate grid.\n",
    "# we define all points relative to these values.\n",
    "x_origin = summerizer(total_precip_P, f\"summerized_precip_P_{magic}\").mean().values\n",
    "y_origin = summerizer(total_temp_P, f\"summerized_temp_P_{magic}\").mean().values\n",
    "\n",
    "print(f\"x-origin: {x_origin}, y-origin: {y_origin}\")\n",
    "\n",
    "## HISTORICAL\n",
    "# color\n",
    "precip_ratio_values_P = [(summerizer(total_qrunoff_P, f\"summerized_qrunoff_P_{magic}\").sel(season_year=x) / summerizer(total_precip_P, f\"summerized_precip_P_{magic}\").sel(season_year=x)).item()\n",
    "                         for x in years_P]\n",
    "# y axis \n",
    "temp_values_P = [(summerizer(total_temp_P, f\"summerized_temp_P_{magic}\").sel(season_year=x)).item() - y_origin\n",
    "                 for x in years_P]\n",
    "# x axis\n",
    "precip_values_P = [(summerizer(total_precip_P, f\"summerized_precip_P_{magic}\").sel(season_year=x)).item() - x_origin\n",
    "                   for x in years_P]\n",
    "print(\"historical (P) done\")\n",
    "\n",
    "## HISTORICAL-DEBUG\n",
    "# color\n",
    "precip_ratio_values_debug_P = summerizer(total_qrunoff_P, f\"summerized_qrunoff_P_{magic}\").values / summerizer(total_precip_P, f\"summerized_precip_P_{magic}\").values\n",
    "print(f\"sanity test: is debug and real equal (precipitation ? {precip_ratio_values_P == precip_ratio_values_debug_P}\")\n",
    "\n",
    "# runoff\n",
    "runoff_values_debug_P = [(summerizer(total_qrunoff_P, f\"summerized_qrunoff_P_{magic}\").sel(season_year=x)).item()\n",
    "                         for x in years_P]\n",
    "# y axis \n",
    "temp_values_debug_P = [(summerizer(total_temp_P, f\"summerized_temp_P_{magic}\").sel(season_year=x)).item()\n",
    "                       for x in years_P]\n",
    "# x axis\n",
    "precip_values_debug_P = [(summerizer(total_precip_P, f\"summerized_precip_P_{magic}\").sel(season_year=x)).item()\n",
    "                         for x in years_P]\n",
    "print(\"historical (P-DEBUG) done\")\n",
    "\n",
    "## FUTURE HOT\n",
    "# color\n",
    "precip_ratio_values_H = [(summerizer(total_qrunoff_H, f\"summerized_qrunoff_H_{magic}\").sel(season_year=x).values / summerizer(total_precip_H, f\"summerized_precip_H_{magic}\").sel(season_year=x).values).item()\n",
    "                         for x in years_H]\n",
    "\n",
    "# y axis \n",
    "temp_values_H = [(summerizer(total_temp_H, f\"summerized_temp_H_{magic}\").sel(season_year=x).values).item() - y_origin\n",
    "                 for x in years_H]\n",
    "# x axis\n",
    "precip_values_H = [(summerizer(total_precip_H, f\"summerized_precip_H_{magic}\").sel(season_year=x).values).item() - x_origin\n",
    "                   for x in years_H]\n",
    "print(\"future (H) done\")\n",
    "\n",
    "## FUTURE HOT-DEBUG\n",
    "# color\n",
    "precip_ratio_values_debug_H = summerizer(total_qrunoff_H, f\"summerized_qrunoff_H_{magic}\").values / summerizer(total_precip_H, f\"summerized_precip_H_{magic}\").values\n",
    "print(f\"sanity test: is debug and real equal (precipitation H)? {precip_ratio_values_H == precip_ratio_values_debug_H}\")\n",
    "\n",
    "# runoff\n",
    "runoff_values_debug_H = [(summerizer(total_qrunoff_H, f\"summerized_qrunoff_H_{magic}\").sel(season_year=x).values).item()\n",
    "                         for x in years_H]\n",
    "# y axis \n",
    "temp_values_debug_H = [(summerizer(total_temp_H, f\"summerized_temp_H_{magic}\").sel(season_year=x).values).item()\n",
    "                       for x in years_H]\n",
    "# x axis\n",
    "precip_values_debug_H = [(summerizer(total_precip_H, f\"summerized_precip_H_{magic}\").sel(season_year=x).values).item()\n",
    "                         for x in years_H]\n",
    "print(\"future (H-DEBUG) done\")\n",
    "\n",
    "## FUTURE MODERATE\n",
    "# color\n",
    "precip_ratio_values_M = [(summerizer(total_qrunoff_M, f\"summerized_qrunoff_M_{magic}\").sel(season_year=x).values / summerizer(total_precip_M, f\"summerized_precip_M_{magic}\").sel(season_year=x).values).item()\n",
    "           for x in years_M]\n",
    "# y axis \n",
    "temp_values_M = [(summerizer(total_temp_M, f\"summerized_temp_M_{magic}\").sel(season_year=x).values).item() - y_origin\n",
    "           for x in years_M]\n",
    "# x axis\n",
    "precip_values_M = [(summerizer(total_precip_M, f\"summerized_precip_M_{magic}\").sel(season_year=x).values).item() - x_origin\n",
    "           for x in years_M]\n",
    "print(\"future (M) done\")\n",
    "\n",
    "## FUTURE MODERATE-DEBUG\n",
    "# color\n",
    "precip_ratio_values_debug_M = summerizer(total_qrunoff_M, f\"summerized_qrunoff_M_{magic}\").values / summerizer(total_precip_M, f\"summerized_precip_M_{magic}\").values\n",
    "print(f\"sanity test: is debug and real equal (precipitation M)? {precip_ratio_values_M == precip_ratio_values_debug_M}\")\n",
    "\n",
    "# runoff\n",
    "runoff_values_debug_M = [(summerizer(total_qrunoff_M, f\"summerized_qrunoff_M_{magic}\").sel(season_year=x).values).item()\n",
    "                         for x in years_M]\n",
    "# y axis \n",
    "temp_values_debug_M = [(summerizer(total_temp_M, f\"summerized_temp_M_{magic}\").sel(season_year=x).values).item()\n",
    "                       for x in years_M]\n",
    "# x axis\n",
    "precip_values_debug_M = [(summerizer(total_precip_M, f\"summerized_precip_M_{magic}\").sel(season_year=x).values).item()\n",
    "                         for x in years_M]\n",
    "print(\"future (M-DEBUG) done\")\n",
    "\n",
    "## Debugging symbols\n",
    "log_file = open(f\"runoff_ratio_debug/plot-{region_dic[magic]}-MJJA.log.txt\", 'w')\n",
    "\n",
    "log_file.write(f\"######## Data log for {region_dic[magic]}\\n\")\n",
    "\n",
    "log_file.write(\"#### HISTORICAL\\n\")\n",
    "log_file.write(f\"precip ratio_P values: {list(zip(precip_ratio_values_debug_P,years_P))}\\n\")\n",
    "log_file.write(f\"temp_P values: {list(zip(temp_values_debug_P,years_P))}\\n\")\n",
    "log_file.write(f\"precip_P values: {list(zip(precip_values_debug_P,years_P))}\\n\")\n",
    "\n",
    "log_file.write(\"#### FUTURE (HOT)\\n\")\n",
    "log_file.write(f\"precip ratio_H values: {list(zip(precip_ratio_values_debug_H,years_H))}\\n\")\n",
    "log_file.write(f\"temp_H values: {list(zip(temp_values_debug_H,years_H))}\\n\")\n",
    "log_file.write(f\"precip_H values: {list(zip(precip_values_debug_H,years_H))}\\n\")\n",
    "\n",
    "log_file.write(\"#### FUTURE (MODERATE)\\n\")\n",
    "log_file.write(f\"precip ratio_M values: {list(zip(precip_ratio_values_debug_M,years_M))}\\n\")\n",
    "log_file.write(f\"temp_M values: {list(zip(temp_values_debug_M,years_M))}\\n\")\n",
    "log_file.write(f\"precip_M values: {list(zip(precip_values_debug_M,years_M))}\\n\")\n",
    "\n",
    "log_file.close()"
   ]
  },
  {
   "cell_type": "code",
   "execution_count": 7,
   "id": "e45e8790-3b99-495e-877c-b3aa84d2e2f9",
   "metadata": {},
   "outputs": [
    {
     "data": {
      "text/plain": [
       "array([320.83132077, 651.73369905, 456.82338215, 611.9994679 ,\n",
       "       579.92203647, 647.36579689, 531.58546061, 565.24206083,\n",
       "       423.9608124 , 641.49113899, 667.60185943, 753.67734495,\n",
       "       619.10410366, 701.82682278, 568.34538305, 704.75466033,\n",
       "       568.75318486, 573.94620135, 456.6667643 , 660.00950849,\n",
       "       707.50094333, 592.00171502, 654.39716906, 691.77119122,\n",
       "       777.78234396, 435.63110403, 548.70807161, 686.94460869,\n",
       "       518.94971329, 538.28956294, 528.15421131, 486.64124056,\n",
       "       647.27617947])"
      ]
     },
     "execution_count": 7,
     "metadata": {},
     "output_type": "execute_result"
    }
   ],
   "source": [
    "summerizer(total_qrunoff_P, \"summerized_qrunoff_P_2\").values"
   ]
  },
  {
   "cell_type": "code",
   "execution_count": 8,
   "id": "d2ec6ccd-33c0-4c74-befe-6ea41558ae22",
   "metadata": {},
   "outputs": [
    {
     "data": {
      "text/plain": [
       "array([406.69163555, 438.83966294, 453.88487403, 358.7122149 ,\n",
       "       497.55859893, 463.72995491, 408.85985139, 503.15106633,\n",
       "       310.81955071, 535.25513556, 398.46604744, 418.01080318,\n",
       "       357.76349965, 432.31560735, 468.09325634, 510.62615686,\n",
       "       483.38037261, 390.52230186, 340.7842456 , 429.01124518,\n",
       "       517.47620646, 459.81682831, 622.0726518 , 403.56341531,\n",
       "       457.62932037, 288.1509048 , 471.37643199, 442.03422636,\n",
       "       440.29816909, 518.70529511, 425.4841926 , 339.60228536,\n",
       "       495.8932536 ])"
      ]
     },
     "execution_count": 8,
     "metadata": {},
     "output_type": "execute_result"
    }
   ],
   "source": [
    "summerizer(total_precip_P, \"summerized_precip_P_2\").values"
   ]
  },
  {
   "cell_type": "code",
   "execution_count": 9,
   "id": "21bb0156-59f3-462c-9cec-9b828bb43ca3",
   "metadata": {},
   "outputs": [
    {
     "data": {
      "text/plain": [
       "array([280.1672 , 277.243  , 276.5425 , 276.6721 , 277.4117 , 276.5336 ,\n",
       "       276.3435 , 277.57806, 277.75793, 276.8912 , 276.34418, 276.34778,\n",
       "       276.97632, 277.7184 , 278.09558, 277.861  , 277.35352, 276.93552,\n",
       "       276.33716, 276.1939 , 277.04144, 275.90747, 276.56796, 275.64886,\n",
       "       277.01   , 278.16733, 277.6298 , 278.6524 , 277.48532, 277.70703,\n",
       "       278.37378, 278.45764, 278.12476], dtype=float32)"
      ]
     },
     "execution_count": 9,
     "metadata": {},
     "output_type": "execute_result"
    }
   ],
   "source": [
    "summerizer(total_temp_P, \"summerized_temp_P_2\", scale_by_time=False).values"
   ]
  },
  {
   "cell_type": "code",
   "execution_count": 10,
   "id": "32ef292b-7b47-434c-8457-2dbcaaebe6bd",
   "metadata": {},
   "outputs": [
    {
     "data": {
      "text/plain": [
       "array([0.78888104, 1.48512943, 1.00647413, 1.70610156, 1.16553515,\n",
       "       1.39599737, 1.30016547, 1.12340428, 1.36400948, 1.19847732,\n",
       "       1.67542972, 1.80300925, 1.73048426, 1.62341311, 1.21417127,\n",
       "       1.38017736, 1.17661622, 1.46968867, 1.34004658, 1.53844338,\n",
       "       1.36721444, 1.28747292, 1.05196261, 1.71415734, 1.69959028,\n",
       "       1.51181585, 1.16405496, 1.55405298, 1.17863246, 1.03775606,\n",
       "       1.24130161, 1.43297399, 1.30527321])"
      ]
     },
     "execution_count": 10,
     "metadata": {},
     "output_type": "execute_result"
    }
   ],
   "source": [
    "summerizer(total_qrunoff_P, \"summerized_qrunoff_P_2\").values / summerizer(total_precip_P, \"summerized_precip_P_2\").values"
   ]
  },
  {
   "cell_type": "code",
   "execution_count": 11,
   "id": "770d7eae-0ae4-4b8c-995c-aa15dd98aa88",
   "metadata": {},
   "outputs": [],
   "source": [
    "def winterizer(ds, dataset_name, scale_by_time=True):\n",
    "    \"\"\"returns winter totals (dec–mar) per season_year; optionally scaled by number of seconds\"\"\"\n",
    "    djfm = ds.sel(time=ds.time.dt.month.isin([12, 1, 2, 3]))\n",
    "\n",
    "    def get_season_year(time):\n",
    "        month = time.dt.month\n",
    "        year = time.dt.year\n",
    "        return xr.DataArray(year.where(month != 12, year + 1), dims='time')\n",
    "\n",
    "    season_years = get_season_year(djfm.time).astype('int32')\n",
    "    djfm.coords['season_year'] = season_years\n",
    "\n",
    "    def get_seconds_per_winter(season_years):\n",
    "        years = np.unique(season_years.values)\n",
    "        starts = pd.to_datetime([f\"{y-1}-12-01\" for y in years])\n",
    "        ends = pd.to_datetime([f\"{y}-04-01\" for y in years])\n",
    "        durations = (ends - starts).days * 86400\n",
    "        return xr.DataArray(durations, dims='season_year', coords={'season_year': years})\n",
    "\n",
    "    seconds_per_year = get_seconds_per_winter(season_years)\n",
    "\n",
    "    def groupby_reducer(ds):\n",
    "        grouped = ds.groupby('season_year').mean(dim=('lat', 'lon', 'time'))\n",
    "        grouped = grouped * seconds_per_year if scale_by_time else grouped\n",
    "        grouped.name = dataset_name\n",
    "        return grouped\n",
    "\n",
    "    return cache_xarray(groupby_reducer, djfm, name_hint=dataset_name)"
   ]
  },
  {
   "cell_type": "code",
   "execution_count": 12,
   "id": "845c9e48-9a86-45ec-853c-e024b75c8f13",
   "metadata": {},
   "outputs": [
    {
     "data": {
      "text/plain": [
       "array([271.1485 , 271.5107 , 270.8521 , 271.54538, 272.53812, 271.22195,\n",
       "       272.0556 , 271.88013, 269.70267, 270.74048, 269.64606, 272.72998,\n",
       "       270.51315, 272.75305, 272.35275, 273.02344, 270.57544, 271.0562 ,\n",
       "       270.50882, 271.07864, 271.12848, 272.03854, 270.10226, 270.92163,\n",
       "       272.99365, 273.24164, 272.70218, 271.93347, 273.68176, 273.43378,\n",
       "       271.97604, 272.57782], dtype=float32)"
      ]
     },
     "execution_count": 12,
     "metadata": {},
     "output_type": "execute_result"
    }
   ],
   "source": [
    "winterizer(total_temp_P, \"winterized_temp_P_2\", scale_by_time=False).values"
   ]
  },
  {
   "cell_type": "code",
   "execution_count": 13,
   "id": "293223ce-98b6-46b1-8471-217179106177",
   "metadata": {},
   "outputs": [
    {
     "data": {
      "text/plain": [
       "array([241.99844017, 422.56099099, 212.47702312, 431.61354039,\n",
       "       356.70077407, 340.80424493, 341.00790694, 311.56697753,\n",
       "       175.20790084, 361.2744948 , 211.57233581, 426.13901077,\n",
       "       326.99001627, 393.28966514, 315.16610761, 432.76084042,\n",
       "       272.78956012, 297.53042764, 349.55814534, 340.55102197,\n",
       "       308.38643944, 315.90268846, 321.72447704, 303.12171823,\n",
       "       515.67340587, 328.00773826, 326.95553459, 304.10637062,\n",
       "       407.07213634, 480.29502549, 354.31319901, 406.55861632])"
      ]
     },
     "execution_count": 13,
     "metadata": {},
     "output_type": "execute_result"
    }
   ],
   "source": [
    "winterizer(total_qrunoff_P, \"winterized_qrunoff_P_2\").values"
   ]
  },
  {
   "cell_type": "code",
   "execution_count": 14,
   "id": "abe1f88a-16c7-47a2-a3fc-df5caf11e0d3",
   "metadata": {},
   "outputs": [
    {
     "data": {
      "text/plain": [
       "array([707.13745581, 621.93694606, 528.64826855, 704.54779663,\n",
       "       646.64683579, 631.88612075, 581.77034764, 545.98067146,\n",
       "       513.92526232, 696.90858729, 701.50493821, 831.88927614,\n",
       "       785.2725964 , 658.81378411, 663.39717116, 727.80391735,\n",
       "       590.6167126 , 595.39071451, 749.48365982, 660.67944928,\n",
       "       555.93969666, 527.14511304, 769.6282146 , 698.72496184,\n",
       "       743.68363596, 543.28296084, 737.34791921, 564.44868007,\n",
       "       653.99014929, 750.63049465, 677.42197188, 722.80632011])"
      ]
     },
     "execution_count": 14,
     "metadata": {},
     "output_type": "execute_result"
    }
   ],
   "source": [
    "winterizer(total_precip_P, \"winterized_precip_P_2\").values"
   ]
  },
  {
   "cell_type": "code",
   "execution_count": 15,
   "id": "4e088c6c-3435-41fe-9e40-cccb72265925",
   "metadata": {},
   "outputs": [
    {
     "data": {
      "text/plain": [
       "array([0.34222263, 0.67942738, 0.40192513, 0.61261073, 0.55161605,\n",
       "       0.53934441, 0.58615553, 0.57065569, 0.34092097, 0.51839581,\n",
       "       0.30159779, 0.51225448, 0.41640319, 0.59696636, 0.47507906,\n",
       "       0.59461186, 0.4618724 , 0.49972299, 0.46639862, 0.51545575,\n",
       "       0.55471203, 0.59927083, 0.41802583, 0.43382122, 0.69340427,\n",
       "       0.6037512 , 0.44342098, 0.53876709, 0.62244383, 0.63985547,\n",
       "       0.52303175, 0.56247241])"
      ]
     },
     "execution_count": 15,
     "metadata": {},
     "output_type": "execute_result"
    }
   ],
   "source": [
    "winterizer(total_qrunoff_P, \"winterized_qrunoff_P_2\").values / winterizer(total_precip_P, \"winterized_precip_P_2\").values"
   ]
  },
  {
   "cell_type": "code",
   "execution_count": 16,
   "id": "ed4df47f-44fa-4526-8752-8f008d843ef5",
   "metadata": {},
   "outputs": [
    {
     "data": {
      "text/plain": [
       "array(2.2333275e-05, dtype=float32)"
      ]
     },
     "execution_count": 16,
     "metadata": {},
     "output_type": "execute_result"
    }
   ],
   "source": [
    "total_rain_P.sel(time=\"1989-07-01T00:00:00.000000000\").mean(dim=('lat','lon')).values"
   ]
  },
  {
   "cell_type": "code",
   "execution_count": 17,
   "id": "acec3e82-c6bd-4d44-8193-65a4fac7e7e2",
   "metadata": {},
   "outputs": [
    {
     "data": {
      "text/plain": [
       "array(2.783457e-06, dtype=float32)"
      ]
     },
     "execution_count": 17,
     "metadata": {},
     "output_type": "execute_result"
    }
   ],
   "source": [
    "total_snow_P.sel(time=\"1989-07-01T00:00:00.000000000\").mean(dim=('lat','lon')).values"
   ]
  },
  {
   "cell_type": "code",
   "execution_count": 18,
   "id": "c59e7bf5-da3b-4edb-aebc-1e800f4ec885",
   "metadata": {},
   "outputs": [
    {
     "data": {
      "text/plain": [
       "array(2.5116746e-05, dtype=float32)"
      ]
     },
     "execution_count": 18,
     "metadata": {},
     "output_type": "execute_result"
    }
   ],
   "source": [
    "(total_rain_P + total_snow_P).sel(time=\"1989-07-01T00:00:00.000000000\").mean(dim=('lat','lon')).values"
   ]
  },
  {
   "cell_type": "code",
   "execution_count": 19,
   "id": "f9c96578-0c24-4463-8122-25cfd81a365b",
   "metadata": {},
   "outputs": [
    {
     "data": {
      "text/plain": [
       "array(4.769426e-05, dtype=float32)"
      ]
     },
     "execution_count": 19,
     "metadata": {},
     "output_type": "execute_result"
    }
   ],
   "source": [
    "total_precip_P.sel(time=\"1989-07-01T00:00:00.000000000\").mean(dim=('lat','lon')).values"
   ]
  },
  {
   "cell_type": "code",
   "execution_count": null,
   "id": "0d30b640-64af-4dd3-bc98-30d11439d692",
   "metadata": {},
   "outputs": [],
   "source": []
  }
 ],
 "metadata": {
  "kernelspec": {
   "display_name": "Python (nsf-env)",
   "language": "python",
   "name": "nsf-env"
  },
  "language_info": {
   "codemirror_mode": {
    "name": "ipython",
    "version": 3
   },
   "file_extension": ".py",
   "mimetype": "text/x-python",
   "name": "python",
   "nbconvert_exporter": "python",
   "pygments_lexer": "ipython3",
   "version": "3.9.22"
  }
 },
 "nbformat": 4,
 "nbformat_minor": 5
}
